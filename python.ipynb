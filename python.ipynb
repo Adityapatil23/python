{
 "cells": [
  {
   "cell_type": "code",
   "execution_count": 5,
   "id": "68e101b2-9f19-43c9-b1cb-8b1dc2147acc",
   "metadata": {
    "scrolled": true
   },
   "outputs": [
    {
     "name": "stdout",
     "output_type": "stream",
     "text": [
      "Extracted Word: Science!\n",
      "Replaced Text: Welcome to the world of Data Analytics!\n",
      "Uppercase Text: WELCOME TO THE WORLD OF DATA SCIENCE!\n",
      "Reversed Text: !ecneicS ataD fo dlrow eht ot emocleW\n"
     ]
    }
   ],
   "source": [
    "##Basic String Operations\n",
    "# 1.String Manipulation\n",
    "#  Create the string variable\n",
    "text = \"Welcome to the world of Data Science!\"\n",
    "# Extract the word \"Data\"\n",
    "extracted_word = text.split()[6]  # Extracting \"Data\"\n",
    "#  Replace \"Science\" with \"Analytics\"\n",
    "replaced_text = text.replace(\"Science\", \"Analytics\")\n",
    "#  Convert the entire string to uppercase\n",
    "uppercase_text = text.upper()\n",
    "#  Reverse the entire string\n",
    "reversed_text = text[::-1]\n",
    "# Output the results\n",
    "print(\"Extracted Word:\", extracted_word)\n",
    "print(\"Replaced Text:\", replaced_text)\n",
    "print(\"Uppercase Text:\", uppercase_text)\n",
    "print(\"Reversed Text:\", reversed_text)  # (with a regular space)"
   ]
  },
  {
   "cell_type": "code",
   "execution_count": 6,
   "id": "5d7ee5c9-dd1d-4c26-b0d2-2fce5d504cab",
   "metadata": {},
   "outputs": [
    {
     "name": "stdout",
     "output_type": "stream",
     "text": [
      "Occurrences of 'm': 2\n",
      "Index position of 'fun': 22\n",
      "Starts with 'Python': True\n",
      "Ends with '!': True\n"
     ]
    }
   ],
   "source": [
    "# 2.String Methods\n",
    "# Define the string\n",
    "text = \"Python programming is fun!\"\n",
    "# Count the number of occurrences of the letter 'm'\n",
    "count_m = text.count('m')\n",
    "# Find the index position of the word 'fun'\n",
    "index_fun = text.index('fun')\n",
    "# Check if the string starts with 'Python' and ends with an exclamation mark\n",
    "starts_with_python = text.startswith('Python')\n",
    "ends_with_exclamation = text.endswith('!')\n",
    "# Output the results\n",
    "print(\"Occurrences of 'm':\", count_m)\n",
    "print(\"Index position of 'fun':\", index_fun)\n",
    "print(\"Starts with 'Python':\", starts_with_python)\n",
    "print(\"Ends with '!':\", ends_with_exclamation)"
   ]
  },
  {
   "cell_type": "code",
   "execution_count": 7,
   "id": "99dfc3f5-ce21-47d3-8d90-9c2bc9b69094",
   "metadata": {},
   "outputs": [
    {
     "name": "stdout",
     "output_type": "stream",
     "text": [
      "My name is John, I am 30 years old, and I am a Data Scientist.\n"
     ]
    }
   ],
   "source": [
    "##Formatting String\n",
    "#1. String Formatting\n",
    "#  Create the string template with placeholders\n",
    "template = \"My name is {name}, I am {age} years old, and I am a {profession}.\"\n",
    "\n",
    "#  Populate the template with values\n",
    "formatted_string = template.format(name=\"John\", age=30, profession=\"Data Scientist\")\n",
    "\n",
    "# Output the result\n",
    "print(formatted_string)"
   ]
  },
  {
   "cell_type": "code",
   "execution_count": 8,
   "id": "4980c020-c4af-41a1-a462-297d08894dd6",
   "metadata": {},
   "outputs": [
    {
     "name": "stdout",
     "output_type": "stream",
     "text": [
      "My name is John, I am 30 years old, and I am a Data Scientist.\n"
     ]
    }
   ],
   "source": [
    "##Formatting String\n",
    "#2.StringLiterals(f-strings)\n",
    "#  Define the variables\n",
    "name = \"John\"\n",
    "age = 30\n",
    "profession = \"Data Scientist\"\n",
    "\n",
    "# Create the formatted string using f-strings\n",
    "formatted_string = f\"My name is {name}, I am {age} years old, and I am a {profession}.\"\n",
    "\n",
    "# Output the result\n",
    "print(formatted_string)"
   ]
  },
  {
   "cell_type": "code",
   "execution_count": 10,
   "id": "6761900f-6e1d-41e2-b2e5-27224cd954c7",
   "metadata": {},
   "outputs": [
    {
     "name": "stdout",
     "output_type": "stream",
     "text": [
      "Pandas Series:\n",
      "0    1\n",
      "1    2\n",
      "2    3\n",
      "3    4\n",
      "4    5\n",
      "dtype: int64\n",
      "\n",
      "First Row:\n",
      "Name             Alice\n",
      "Age                 25\n",
      "Profession    Engineer\n",
      "Name: 0, dtype: object\n",
      "\n",
      "Last Row:\n",
      "Name          Charlie\n",
      "Age                35\n",
      "Profession    Teacher\n",
      "Name: 2, dtype: object\n",
      "\n",
      "Name Column:\n",
      "0      Alice\n",
      "1        Bob\n",
      "2    Charlie\n",
      "Name: Name, dtype: object\n",
      "\n",
      "Filtered DataFrame (Age > 28):\n",
      "      Name  Age      Profession\n",
      "1      Bob   30  Data Scientist\n",
      "2  Charlie   35         Teacher\n"
     ]
    }
   ],
   "source": [
    "##:Understanding Pandas Data Structure\n",
    "# 1. Series and Data Frames\n",
    "import pandas as pd\n",
    "# Create a Pandas Series from a list of integers\n",
    "integer_list = [1, 2, 3, 4, 5]\n",
    "series = pd.Series(integer_list)\n",
    "#: Create a Pandas DataFrame with the specified data\n",
    "data = {\n",
    "    \"Name\": [\"Alice\", \"Bob\", \"Charlie\"],\n",
    "    \"Age\": [25, 30, 35],\n",
    "    \"Profession\": [\"Engineer\", \"Data Scientist\", \"Teacher\"]\n",
    "}\n",
    "dataframe = pd.DataFrame(data)\n",
    "# Display the first and last row of the DataFrame\n",
    "first_row = dataframe.iloc[0]\n",
    "last_row = dataframe.iloc[-1]\n",
    "# Select and display the 'Name' column\n",
    "name_column = dataframe['Name']\n",
    "\n",
    "#: Filter the DataFrame to show only rows where the 'Age' is greater than 28\n",
    "filtered_df = dataframe[dataframe['Age'] > 28]\n",
    "\n",
    "# Output the results\n",
    "print(\"Pandas Series:\")\n",
    "print(series)\n",
    "\n",
    "print(\"\\nFirst Row:\")\n",
    "print(first_row)\n",
    "\n",
    "print(\"\\nLast Row:\")\n",
    "print(last_row)\n",
    "\n",
    "print(\"\\nName Column:\")\n",
    "print(name_column)\n",
    "\n",
    "print(\"\\nFiltered DataFrame (Age > 28):\")\n",
    "print(filtered_df)"
   ]
  },
  {
   "cell_type": "code",
   "execution_count": 29,
   "id": "51ab4d90-4969-44d9-9df0-f7578171ebec",
   "metadata": {},
   "outputs": [
    {
     "name": "stdout",
     "output_type": "stream",
     "text": [
      "Column Names:\n",
      "Index(['Name', 'Age', 'Salary ', 'Department'], dtype='object')\n",
      "\n",
      "Mean of Salary: 70000.0\n",
      "Median of Salary: 70000.0\n",
      "Standard Deviation of Salary: 15811.388300841896\n"
     ]
    }
   ],
   "source": [
    "##experimenting with Pandas Functions\n",
    "# Data Aggregation and Analysis\n",
    "import pandas as pd\n",
    "\n",
    "# Load the CSV file\n",
    "spreadsheet = pd.read_csv('D:\\\\Aditya.csv')\n",
    "\n",
    "# Check column names\n",
    "print(\"Column Names:\")\n",
    "print(spreadsheet.columns)\n",
    "\n",
    "# Calculate mean, median, and standard deviation of a numeric column\n",
    "# Clean up column names (optional)\n",
    "spreadsheet.columns = spreadsheet.columns.str.strip()  # Removes any leading/trailing spaces\n",
    "\n",
    "# Replace 'Salary' with the actual name\n",
    "mean_value = spreadsheet['Salary'].mean()  # Adjust this as needed\n",
    "median_value = spreadsheet['Salary'].median()\n",
    "std_dev_value = spreadsheet['Salary'].std()\n",
    "\n",
    "print(\"\\nMean of Salary:\", mean_value)\n",
    "print(\"Median of Salary:\", median_value)\n",
    "print(\"Standard Deviation of Salary:\", std_dev_value)\n"
   ]
  },
  {
   "cell_type": "code",
   "execution_count": 28,
   "id": "b92cc8b3-d50b-41f6-b3ab-4426e271d137",
   "metadata": {},
   "outputs": [
    {
     "name": "stdout",
     "output_type": "stream",
     "text": [
      "1D Array (1 to 10):\n",
      "[ 1  2  3  4  5  6  7  8  9 10]\n",
      "\n",
      "2D Array (3x3) with random integers between 1 and 20:\n",
      "[[ 3 19  8]\n",
      " [ 6  6 16]\n",
      " [12 14 19]]\n",
      "\n",
      "Mean of the 2D Array: 11.444444444444445\n",
      "Standard Deviation of the 2D Array: 5.619630496178574\n",
      "\n",
      "Reshaped 1D Array from 2D Array:\n",
      "[ 3 19  8  6  6 16 12 14 19]\n",
      "\n",
      "Sorted 1D Array in Ascending Order:\n",
      "[ 3  6  6  8 12 14 16 19 19]\n"
     ]
    }
   ],
   "source": [
    "## IntroductiontoNumPy\n",
    " #1. NumPyBasics\n",
    "import numpy as np\n",
    "# Create a 1D NumPy array with values from 1 to 10\n",
    "array_1d = np.arange(1, 11)\n",
    "print(\"1D Array (1 to 10):\")\n",
    "print(array_1d)\n",
    "# Create a 2D NumPy array with shape (3, 3) containing random integers between 1 and 20\n",
    "array_2d = np.random.randint(1, 21, size=(3, 3))\n",
    "print(\"\\n2D Array (3x3) with random integers between 1 and 20:\")\n",
    "print(array_2d)\n",
    "#  Find the mean and standard deviation of the 2D array\n",
    "mean_2d = np.mean(array_2d)\n",
    "std_dev_2d = np.std(array_2d)\n",
    "print(\"\\nMean of the 2D Array:\", mean_2d)\n",
    "print(\"Standard Deviation of the 2D Array:\", std_dev_2d)\n",
    "#  Reshape the 2D array into a 1D array\n",
    "reshaped_array_1d = array_2d.reshape(-1)\n",
    "print(\"\\nReshaped 1D Array from 2D Array:\")\n",
    "print(reshaped_array_1d)\n",
    "#  Sort the 1D array in ascending order\n",
    "sorted_array_1d = np.sort(reshaped_array_1d)\n",
    "print(\"\\nSorted 1D Array in Ascending Order:\")\n",
    "print(sorted_array_1d)\n"
   ]
  },
  {
   "cell_type": "code",
   "execution_count": null,
   "id": "31d2f54a-2a7b-41b5-95df-730fb0db5b96",
   "metadata": {},
   "outputs": [],
   "source": []
  }
 ],
 "metadata": {
  "kernelspec": {
   "display_name": "Python 3 (ipykernel)",
   "language": "python",
   "name": "python3"
  },
  "language_info": {
   "codemirror_mode": {
    "name": "ipython",
    "version": 3
   },
   "file_extension": ".py",
   "mimetype": "text/x-python",
   "name": "python",
   "nbconvert_exporter": "python",
   "pygments_lexer": "ipython3",
   "version": "3.12.6"
  }
 },
 "nbformat": 4,
 "nbformat_minor": 5
}
